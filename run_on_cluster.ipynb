{
 "cells": [
  {
   "cell_type": "markdown",
   "metadata": {},
   "source": [
    "\n",
    "<font size=\"5\">\n",
    "    This notebook covers some common operations and transformations applied to Big Data using Apache Spark.\n",
    "    </font>\n",
    "<br>\n",
    "<br>\n",
    "This notebook was exectuted on AWS Amazon EMR.\n",
    "<br>"
   ]
  },
  {
   "cell_type": "code",
   "execution_count": null,
   "metadata": {},
   "outputs": [],
   "source": [
    "%%configure -f \n",
    "{\"driverMemory\": \"6000M\",\n",
    "\"conf\":{\n",
    "          \"spark.pyspark.python\": \"python\",\n",
    "          \"spark.pyspark.virtualenv.enabled\": \"true\",\n",
    "          \"spark.pyspark.virtualenv.type\":\"native\",\n",
    "          \"spark.pyspark.virtualenv.bin.path\":\"/usr/bin/virtualenv\"\n",
    "         }\n",
    "}"
   ]
  },
  {
   "cell_type": "code",
   "execution_count": 1,
   "metadata": {},
   "outputs": [
    {
     "data": {
      "application/vnd.jupyter.widget-view+json": {
       "model_id": "2ce0002e4afc42b7be810c1545f7ff1f",
       "version_major": 2,
       "version_minor": 0
      },
      "text/plain": [
       "VBox()"
      ]
     },
     "metadata": {},
     "output_type": "display_data"
    },
    {
     "name": "stdout",
     "output_type": "stream",
     "text": [
      "Starting Spark application\n"
     ]
    },
    {
     "data": {
      "text/html": [
       "<table>\n",
       "<tr><th>ID</th><th>YARN Application ID</th><th>Kind</th><th>State</th><th>Spark UI</th><th>Driver log</th><th>Current session?</th></tr><tr><td>23</td><td>application_1598894905645_0024</td><td>pyspark</td><td>idle</td><td></td><td></td><td>✔</td></tr></table>"
      ],
      "text/plain": [
       "<IPython.core.display.HTML object>"
      ]
     },
     "metadata": {},
     "output_type": "display_data"
    },
    {
     "data": {
      "application/vnd.jupyter.widget-view+json": {
       "model_id": "",
       "version_major": 2,
       "version_minor": 0
      },
      "text/plain": [
       "FloatProgress(value=0.0, bar_style='info', description='Progress:', layout=Layout(height='25px', width='50%'),…"
      ]
     },
     "metadata": {},
     "output_type": "display_data"
    },
    {
     "name": "stdout",
     "output_type": "stream",
     "text": [
      "SparkSession available as 'spark'.\n"
     ]
    },
    {
     "data": {
      "application/vnd.jupyter.widget-view+json": {
       "model_id": "",
       "version_major": 2,
       "version_minor": 0
      },
      "text/plain": [
       "FloatProgress(value=0.0, bar_style='info', description='Progress:', layout=Layout(height='25px', width='50%'),…"
      ]
     },
     "metadata": {},
     "output_type": "display_data"
    },
    {
     "name": "stdout",
     "output_type": "stream",
     "text": [
      "Collecting matplotlib\n",
      "  Using cached https://files.pythonhosted.org/packages/f1/b9/712584f12f840968a14969a1fe298ffdeaa9c4b484b3bfd973c74c4a481d/matplotlib-3.3.1-cp37-cp37m-manylinux1_x86_64.whl\n",
      "Collecting certifi>=2020.06.20 (from matplotlib)\n",
      "  Using cached https://files.pythonhosted.org/packages/5e/c4/6c4fe722df5343c33226f0b4e0bb042e4dc13483228b4718baf286f86d87/certifi-2020.6.20-py2.py3-none-any.whl\n",
      "Requirement already satisfied: numpy>=1.15 in /usr/local/lib64/python3.7/site-packages (from matplotlib)\n",
      "Collecting python-dateutil>=2.1 (from matplotlib)\n",
      "  Using cached https://files.pythonhosted.org/packages/d4/70/d60450c3dd48ef87586924207ae8907090de0b306af2bce5d134d78615cb/python_dateutil-2.8.1-py2.py3-none-any.whl\n",
      "Collecting pyparsing!=2.0.4,!=2.1.2,!=2.1.6,>=2.0.3 (from matplotlib)\n",
      "  Using cached https://files.pythonhosted.org/packages/8a/bb/488841f56197b13700afd5658fc279a2025a39e22449b7cf29864669b15d/pyparsing-2.4.7-py2.py3-none-any.whl\n",
      "Collecting pillow>=6.2.0 (from matplotlib)\n",
      "  Using cached https://files.pythonhosted.org/packages/e8/f2/6722dd0c22e3a143ac792ccb2424924ac72af4adea756b1165b4cad50da7/Pillow-7.2.0-cp37-cp37m-manylinux1_x86_64.whl\n",
      "Collecting cycler>=0.10 (from matplotlib)\n",
      "  Using cached https://files.pythonhosted.org/packages/f7/d2/e07d3ebb2bd7af696440ce7e754c59dd546ffe1bbe732c8ab68b9c834e61/cycler-0.10.0-py2.py3-none-any.whl\n",
      "Collecting kiwisolver>=1.0.1 (from matplotlib)\n",
      "  Using cached https://files.pythonhosted.org/packages/31/b9/6202dcae729998a0ade30e80ac00f616542ef445b088ec970d407dfd41c0/kiwisolver-1.2.0-cp37-cp37m-manylinux1_x86_64.whl\n",
      "Requirement already satisfied: six>=1.5 in /usr/local/lib/python3.7/site-packages (from python-dateutil>=2.1->matplotlib)\n",
      "Installing collected packages: certifi, python-dateutil, pyparsing, pillow, cycler, kiwisolver, matplotlib\n",
      "Successfully installed certifi-2020.6.20 cycler-0.10.0 kiwisolver-1.2.0 matplotlib-3.3.1 pillow-7.2.0 pyparsing-2.4.7 python-dateutil-2.8.1"
     ]
    }
   ],
   "source": [
    "sc.install_pypi_package(\"matplotlib\", \"https://pypi.org/simple\")"
   ]
  },
  {
   "cell_type": "code",
   "execution_count": 2,
   "metadata": {},
   "outputs": [
    {
     "data": {
      "application/vnd.jupyter.widget-view+json": {
       "model_id": "6bc46005428b4eef98f3dd3b8355a7fd",
       "version_major": 2,
       "version_minor": 0
      },
      "text/plain": [
       "VBox()"
      ]
     },
     "metadata": {},
     "output_type": "display_data"
    },
    {
     "data": {
      "application/vnd.jupyter.widget-view+json": {
       "model_id": "",
       "version_major": 2,
       "version_minor": 0
      },
      "text/plain": [
       "FloatProgress(value=0.0, bar_style='info', description='Progress:', layout=Layout(height='25px', width='50%'),…"
      ]
     },
     "metadata": {},
     "output_type": "display_data"
    },
    {
     "name": "stdout",
     "output_type": "stream",
     "text": [
      "Starting..."
     ]
    }
   ],
   "source": [
    "import csv\n",
    "import random\n",
    "import string\n",
    "from pyspark.sql import SparkSession\n",
    "from pyspark.sql.functions import *\n",
    "from pyspark.sql.types import *\n",
    "import matplotlib.pyplot as plt\n",
    "from pyspark.sql.window import Window\n",
    "\n",
    "print(\"Starting...\")"
   ]
  },
  {
   "cell_type": "code",
   "execution_count": null,
   "metadata": {},
   "outputs": [],
   "source": []
  },
  {
   "cell_type": "code",
   "execution_count": null,
   "metadata": {},
   "outputs": [],
   "source": []
  },
  {
   "cell_type": "code",
   "execution_count": null,
   "metadata": {},
   "outputs": [],
   "source": []
  },
  {
   "cell_type": "markdown",
   "metadata": {},
   "source": [
    "## Generate Data\n",
    "\n",
    "The data generation code was adapted from https://gist.github.com/aialenti/cfd4e213ebf2ef6e20b195c8fb45382c"
   ]
  },
  {
   "cell_type": "code",
   "execution_count": null,
   "metadata": {},
   "outputs": [],
   "source": [
    "#run only on the first time executing the code\n",
    "\n",
    "sc.install_pypi_package(\"pandas\")\n",
    "sc.install_pypi_package(\"tqdm\")\n",
    "\n",
    "import pandas as pd\n",
    "from tqdm import tqdm\n",
    "import csv\n",
    "import random\n",
    "import string\n",
    "from pyspark.sql import SparkSession\n",
    "from pyspark.sql.functions import *\n",
    "from pyspark.sql.types import *\n",
    "\n",
    "random.seed(1999)\n",
    "\n",
    "letters = string.ascii_lowercase\n",
    "letters_upper = string.ascii_uppercase\n",
    "for _i in range(0, 10):\n",
    "    letters += letters\n",
    "\n",
    "for _i in range(0, 10):\n",
    "    letters += letters_upper\n",
    "\n",
    "\n",
    "def random_string(stringLength=10):\n",
    "    \"\"\"Generate a random string of fixed length \"\"\"\n",
    "    return ''.join(random.sample(letters, stringLength))\n",
    "\n",
    "\n",
    "n_products = 750000\n",
    "print(\"Products between {} and {}\".format(1, n_products))\n",
    "product_ids = [x for x in range(1, n_products)]\n",
    "dates = ['2020-07-01', '2020-07-02', '2020-07-03', '2020-07-04', '2020-07-05', '2020-07-06', '2020-07-07', '2020-07-08',\n",
    "         '2020-07-09', '2020-07-10']\n",
    "seller_ids = [x for x in range(1, 10)]\n",
    "\n",
    "\n",
    "#   Generate products\n",
    "products = [[0, \"product_0\", 22]]\n",
    "for p in tqdm(product_ids):\n",
    "    products.append([p, \"product_{}\".format(p), random.randint(1, 150)])\n",
    "\n",
    "#   Save dataframe\n",
    "mySchema = StructType([ StructField(\"product_id\", LongType(), True)\\\n",
    "                       ,StructField(\"product_name\", StringType(), True)\\\n",
    "                       ,StructField(\"price\", IntegerType(), True)])\n",
    "\n",
    "df = spark.createDataFrame(products,schema=mySchema)\n",
    "df.write.save('hdfs:///products/', format=\"parquet\", mode=\"overwrite\")\n",
    "\n",
    "del df\n",
    "del products\n",
    "\n",
    "print(\"Products Done\")\n",
    "\n",
    "\n",
    "#   Generate sellers\n",
    "n_sellers = 25000\n",
    "sellers = [[0, \"seller_0\", n_sellers]]\n",
    "for s in tqdm(seller_ids):\n",
    "    sellers.append([s, \"seller_{}\".format(s), random.randint(1200, n_sellers)])\n",
    "\n",
    "#   Save dataframe\n",
    "mySchema = StructType([ StructField(\"seller_id\", LongType(), True)\\\n",
    "                       ,StructField(\"seller_name\", StringType(), True)\\\n",
    "                       ,StructField(\"daily_target\", IntegerType(), True)])\n",
    "\n",
    "df = spark.createDataFrame(sellers,schema=mySchema)\n",
    "df.write.save('hdfs:///sellers/', format=\"parquet\", mode=\"overwrite\")\n",
    "\n",
    "\n",
    "print(\"Sellers Done\")\n",
    "\n",
    "#   Generate sales\n",
    "total_rows = 10000\n",
    "prod_zero = int(total_rows * 0.95)\n",
    "prod_others = total_rows - prod_zero + 1\n",
    "\n",
    "df_array = [[]]\n",
    "\n",
    "mySchema = StructType([ StructField(\"order_id\", LongType(), True)\\\n",
    "                       ,StructField(\"product_id\", LongType(), True)\\\n",
    "                       ,StructField(\"seller_id\", LongType(), True)\n",
    "                       ,StructField(\"date\", StringType(), True)\\\n",
    "                       ,StructField(\"num_pieces_sold\", IntegerType(), True)\\\n",
    "                       ,StructField(\"bill_raw_text\", StringType(), True)])\n",
    "\n",
    "order_id = 0\n",
    "df_array = []\n",
    "for i in tqdm(range(0, 40)):\n",
    "    \n",
    "\n",
    "    for i in range(0, prod_zero):\n",
    "        order_id += 1\n",
    "        df_array.append([order_id, 0, 0, random.choice(dates), random.randint(1, 100), random_string(500)])\n",
    "\n",
    "    \n",
    "    for i in range(0, prod_others):\n",
    "        order_id += 1\n",
    "        df_array.append(\n",
    "            [order_id, random.choice(product_ids), random.choice(seller_ids), random.choice(dates),\n",
    "             random.randint(1, 100), random_string(500)])\n",
    "\n",
    "    \n",
    "        \n",
    "df = spark.createDataFrame(df_array,schema=mySchema)\n",
    "df.write.save('hdfs:///sales/', format=\"parquet\", mode=\"overwrite\")\n",
    "\n"
   ]
  },
  {
   "cell_type": "code",
   "execution_count": null,
   "metadata": {},
   "outputs": [],
   "source": []
  },
  {
   "cell_type": "code",
   "execution_count": null,
   "metadata": {},
   "outputs": [],
   "source": []
  },
  {
   "cell_type": "code",
   "execution_count": 3,
   "metadata": {},
   "outputs": [
    {
     "data": {
      "application/vnd.jupyter.widget-view+json": {
       "model_id": "363f67c0fbce4c96a66ac789ff34655e",
       "version_major": 2,
       "version_minor": 0
      },
      "text/plain": [
       "VBox()"
      ]
     },
     "metadata": {},
     "output_type": "display_data"
    },
    {
     "data": {
      "application/vnd.jupyter.widget-view+json": {
       "model_id": "",
       "version_major": 2,
       "version_minor": 0
      },
      "text/plain": [
       "FloatProgress(value=0.0, bar_style='info', description='Progress:', layout=Layout(height='25px', width='50%'),…"
      ]
     },
     "metadata": {},
     "output_type": "display_data"
    }
   ],
   "source": [
    "#Load data\n",
    "products_df = spark.read.parquet(\"hdfs:///products\")\n",
    "sales_df = spark.read.parquet(\"hdfs:///sales\")\n",
    "sellers_df = spark.read.parquet(\"hdfs:///sellers\")"
   ]
  },
  {
   "cell_type": "code",
   "execution_count": null,
   "metadata": {},
   "outputs": [],
   "source": []
  },
  {
   "cell_type": "markdown",
   "metadata": {},
   "source": [
    "# Initial Data Analysis"
   ]
  },
  {
   "cell_type": "markdown",
   "metadata": {},
   "source": [
    "## Products"
   ]
  },
  {
   "cell_type": "code",
   "execution_count": 4,
   "metadata": {},
   "outputs": [
    {
     "data": {
      "application/vnd.jupyter.widget-view+json": {
       "model_id": "bffe086128dd419c8e0a16db24e9cfca",
       "version_major": 2,
       "version_minor": 0
      },
      "text/plain": [
       "VBox()"
      ]
     },
     "metadata": {},
     "output_type": "display_data"
    },
    {
     "data": {
      "application/vnd.jupyter.widget-view+json": {
       "model_id": "",
       "version_major": 2,
       "version_minor": 0
      },
      "text/plain": [
       "FloatProgress(value=0.0, bar_style='info', description='Progress:', layout=Layout(height='25px', width='50%'),…"
      ]
     },
     "metadata": {},
     "output_type": "display_data"
    },
    {
     "name": "stdout",
     "output_type": "stream",
     "text": [
      "+----------+--------------+-----+\n",
      "|product_id|  product_name|price|\n",
      "+----------+--------------+-----+\n",
      "|    374784|product_374784|  131|\n",
      "|    374785|product_374785|  100|\n",
      "|    374786|product_374786|   92|\n",
      "|    374787|product_374787|   13|\n",
      "|    374788|product_374788|   94|\n",
      "|    374789|product_374789|   90|\n",
      "|    374790|product_374790|  114|\n",
      "|    374791|product_374791|   64|\n",
      "|    374792|product_374792|   58|\n",
      "|    374793|product_374793|   46|\n",
      "+----------+--------------+-----+\n",
      "only showing top 10 rows\n",
      "\n",
      "root\n",
      " |-- product_id: long (nullable = true)\n",
      " |-- product_name: string (nullable = true)\n",
      " |-- price: integer (nullable = true)\n",
      "\n",
      "+-------+------------------+-------------+------------------+\n",
      "|summary|        product_id| product_name|             price|\n",
      "+-------+------------------+-------------+------------------+\n",
      "|  count|            750000|       750000|            750000|\n",
      "|   mean|          374999.5|         null| 75.43187466666667|\n",
      "| stddev|216506.49528362884|         null|43.275723510107916|\n",
      "|    min|                 0|    product_0|                 1|\n",
      "|    25%|            187428|         null|                38|\n",
      "|    50%|            374937|         null|                75|\n",
      "|    75%|            562428|         null|               113|\n",
      "|    max|            749999|product_99999|               150|\n",
      "+-------+------------------+-------------+------------------+"
     ]
    }
   ],
   "source": [
    "products_df = products_df.withColumn(\"price\", products_df[\"price\"].cast(IntegerType()))\n",
    "products_df.show(10)\n",
    "\n",
    "products_df.printSchema()\n",
    "\n",
    "products_df.summary().show()"
   ]
  },
  {
   "cell_type": "code",
   "execution_count": null,
   "metadata": {},
   "outputs": [],
   "source": []
  },
  {
   "cell_type": "code",
   "execution_count": 5,
   "metadata": {},
   "outputs": [
    {
     "data": {
      "application/vnd.jupyter.widget-view+json": {
       "model_id": "c8f18543271941df8584f116b897d5ed",
       "version_major": 2,
       "version_minor": 0
      },
      "text/plain": [
       "VBox()"
      ]
     },
     "metadata": {},
     "output_type": "display_data"
    },
    {
     "data": {
      "application/vnd.jupyter.widget-view+json": {
       "model_id": "",
       "version_major": 2,
       "version_minor": 0
      },
      "text/plain": [
       "FloatProgress(value=0.0, bar_style='info', description='Progress:', layout=Layout(height='25px', width='50%'),…"
      ]
     },
     "metadata": {},
     "output_type": "display_data"
    },
    {
     "data": {
      "image/png": "[encoded data removed]",
      "text/plain": [
       "<IPython.core.display.Image object>"
      ]
     },
     "metadata": {},
     "output_type": "display_data"
    }
   ],
   "source": [
    "bins, counts = products_df.rdd.map(lambda x : x[2]).histogram(10)\n",
    "plt.clf()\n",
    "\n",
    "plt.hist(bins[:-1], bins=bins, weights=counts)\n",
    "plt.title('Distribution of Product Prices values')\n",
    "plt.xlabel('Product price')\n",
    "plt.ylabel('Frequency')\n",
    "#plt.show()\n",
    "\n",
    "%matplot plt"
   ]
  },
  {
   "cell_type": "code",
   "execution_count": null,
   "metadata": {},
   "outputs": [],
   "source": []
  },
  {
   "cell_type": "code",
   "execution_count": null,
   "metadata": {},
   "outputs": [],
   "source": []
  },
  {
   "cell_type": "code",
   "execution_count": null,
   "metadata": {},
   "outputs": [],
   "source": []
  },
  {
   "cell_type": "markdown",
   "metadata": {},
   "source": [
    "## Orders"
   ]
  },
  {
   "cell_type": "code",
   "execution_count": 6,
   "metadata": {},
   "outputs": [
    {
     "data": {
      "application/vnd.jupyter.widget-view+json": {
       "model_id": "8796b28ea7f24581bbe3af2f2c4c2de6",
       "version_major": 2,
       "version_minor": 0
      },
      "text/plain": [
       "VBox()"
      ]
     },
     "metadata": {},
     "output_type": "display_data"
    },
    {
     "data": {
      "application/vnd.jupyter.widget-view+json": {
       "model_id": "",
       "version_major": 2,
       "version_minor": 0
      },
      "text/plain": [
       "FloatProgress(value=0.0, bar_style='info', description='Progress:', layout=Layout(height='25px', width='50%'),…"
      ]
     },
     "metadata": {},
     "output_type": "display_data"
    },
    {
     "name": "stdout",
     "output_type": "stream",
     "text": [
      "+--------+----------+---------+----------+---------------+--------------------+\n",
      "|order_id|product_id|seller_id|      date|num_pieces_sold|       bill_raw_text|\n",
      "+--------+----------+---------+----------+---------------+--------------------+\n",
      "|       1|         0|        0|2020-07-09|             58|snsoxpkswdasbcnup...|\n",
      "|       2|         0|        0|2020-07-10|             92|csqibsokudgpmfblz...|\n",
      "|       3|         0|        0|2020-07-08|              9|dcthhiychddkdumdd...|\n",
      "|       4|         0|        0|2020-07-01|             44|vhkjxgonfuhctbhnp...|\n",
      "|       5|         0|        0|2020-07-07|             79|frmqbeghxuehzwwph...|\n",
      "|       6|         0|        0|2020-07-02|             23|gqrraskhzoanzrcsq...|\n",
      "|       7|         0|        0|2020-07-04|             90|xaksoxntutnhsjmxs...|\n",
      "|       8|         0|        0|2020-07-10|             80|jatumxtcjospvbtxa...|\n",
      "|       9|         0|        0|2020-07-09|             53|peqoriydwbdwuowoz...|\n",
      "|      10|         0|        0|2020-07-03|             10|mvjpnetypibdaofju...|\n",
      "+--------+----------+---------+----------+---------------+--------------------+\n",
      "only showing top 10 rows\n",
      "\n",
      "root\n",
      " |-- order_id: long (nullable = true)\n",
      " |-- product_id: long (nullable = true)\n",
      " |-- seller_id: long (nullable = true)\n",
      " |-- date: date (nullable = true)\n",
      " |-- num_pieces_sold: integer (nullable = true)\n",
      " |-- bill_raw_text: string (nullable = true)\n",
      "\n",
      "+-------+------------------+------------------+-------------------+------------------+--------------------+\n",
      "|summary|          order_id|        product_id|          seller_id|   num_pieces_sold|       bill_raw_text|\n",
      "+-------+------------------+------------------+-------------------+------------------+--------------------+\n",
      "|  count|            400040|            400040|             400040|            400040|              400040|\n",
      "|   mean|          200020.5|18807.972087791222|0.24931006899310068|50.511398860113985|                null|\n",
      "| stddev|115481.74518078603|  95046.3498640679| 1.2301425657220488|28.872028239051303|                null|\n",
      "|    min|                 1|                 0|                  0|                 1|ACawmpadssvxkoivv...|\n",
      "|    25%|            100000|                 0|                  0|                26|                null|\n",
      "|    50%|            200014|                 0|                  0|                50|                null|\n",
      "|    75%|            299996|                 0|                  0|                76|                null|\n",
      "|    max|            400040|            749896|                  9|               100|zzzyyvldvxcfrrjgu...|\n",
      "+-------+------------------+------------------+-------------------+------------------+--------------------+"
     ]
    }
   ],
   "source": [
    "sales_df = sales_df.withColumn(\"num_pieces_sold\", sales_df[\"num_pieces_sold\"].cast(IntegerType()))\n",
    "sales_df = sales_df.withColumn(\"date\", sales_df[\"date\"].cast(DateType()))\n",
    "\n",
    "sales_df.show(10)\n",
    "\n",
    "sales_df.printSchema()\n",
    "\n",
    "sales_df.summary().show()"
   ]
  },
  {
   "cell_type": "code",
   "execution_count": null,
   "metadata": {},
   "outputs": [],
   "source": []
  },
  {
   "cell_type": "code",
   "execution_count": 7,
   "metadata": {},
   "outputs": [
    {
     "data": {
      "application/vnd.jupyter.widget-view+json": {
       "model_id": "c05706b4790043eebc117483262ccbd5",
       "version_major": 2,
       "version_minor": 0
      },
      "text/plain": [
       "VBox()"
      ]
     },
     "metadata": {},
     "output_type": "display_data"
    },
    {
     "data": {
      "application/vnd.jupyter.widget-view+json": {
       "model_id": "",
       "version_major": 2,
       "version_minor": 0
      },
      "text/plain": [
       "FloatProgress(value=0.0, bar_style='info', description='Progress:', layout=Layout(height='25px', width='50%'),…"
      ]
     },
     "metadata": {},
     "output_type": "display_data"
    },
    {
     "data": {
      "image/png": "[encoded data removed]",
      "text/plain": [
       "<IPython.core.display.Image object>"
      ]
     },
     "metadata": {},
     "output_type": "display_data"
    }
   ],
   "source": [
    "bins, counts = sales_df.rdd.map(lambda x : x[4]).histogram(10)\n",
    "plt.clf()\n",
    "\n",
    "plt.hist(bins[:-1], bins=bins, weights=counts)\n",
    "plt.title('Distribution of Number_Pieces_Sold values per order')\n",
    "plt.xlabel('Number_Pieces_Sold per order')\n",
    "plt.ylabel('Frequency')\n",
    "#plt.show()\n",
    "\n",
    "%matplot plt\n",
    "\n"
   ]
  },
  {
   "cell_type": "code",
   "execution_count": null,
   "metadata": {},
   "outputs": [],
   "source": []
  },
  {
   "cell_type": "code",
   "execution_count": null,
   "metadata": {},
   "outputs": [],
   "source": []
  },
  {
   "cell_type": "markdown",
   "metadata": {},
   "source": [
    "## Sellers"
   ]
  },
  {
   "cell_type": "code",
   "execution_count": 8,
   "metadata": {},
   "outputs": [
    {
     "data": {
      "application/vnd.jupyter.widget-view+json": {
       "model_id": "65b8aaa180854f19a46bdfad0cf45159",
       "version_major": 2,
       "version_minor": 0
      },
      "text/plain": [
       "VBox()"
      ]
     },
     "metadata": {},
     "output_type": "display_data"
    },
    {
     "data": {
      "application/vnd.jupyter.widget-view+json": {
       "model_id": "",
       "version_major": 2,
       "version_minor": 0
      },
      "text/plain": [
       "FloatProgress(value=0.0, bar_style='info', description='Progress:', layout=Layout(height='25px', width='50%'),…"
      ]
     },
     "metadata": {},
     "output_type": "display_data"
    },
    {
     "name": "stdout",
     "output_type": "stream",
     "text": [
      "+---------+-----------+------------+\n",
      "|seller_id|seller_name|daily_target|\n",
      "+---------+-----------+------------+\n",
      "|        6|   seller_6|       20341|\n",
      "|        7|   seller_7|        1808|\n",
      "|        8|   seller_8|        8211|\n",
      "|        9|   seller_9|        3333|\n",
      "|        0|   seller_0|       25000|\n",
      "|        1|   seller_1|       13818|\n",
      "|        4|   seller_4|       20283|\n",
      "|        5|   seller_5|       15190|\n",
      "|        2|   seller_2|       19552|\n",
      "|        3|   seller_3|       12059|\n",
      "+---------+-----------+------------+\n",
      "\n",
      "root\n",
      " |-- seller_id: long (nullable = true)\n",
      " |-- seller_name: string (nullable = true)\n",
      " |-- daily_target: integer (nullable = true)\n",
      "\n",
      "+-------+------------------+-----------+-----------------+\n",
      "|summary|         seller_id|seller_name|     daily_target|\n",
      "+-------+------------------+-----------+-----------------+\n",
      "|  count|                10|         10|               10|\n",
      "|   mean|               4.5|       null|          13959.5|\n",
      "| stddev|3.0276503540974917|       null|7693.082394087705|\n",
      "|    min|                 0|   seller_0|             1808|\n",
      "|    25%|                 2|       null|             8211|\n",
      "|    50%|                 4|       null|            13818|\n",
      "|    75%|                 7|       null|            20283|\n",
      "|    max|                 9|   seller_9|            25000|\n",
      "+-------+------------------+-----------+-----------------+"
     ]
    }
   ],
   "source": [
    "sellers_df = sellers_df.withColumn(\"daily_target\", sellers_df[\"daily_target\"].cast(IntegerType()))\n",
    "\n",
    "sellers_df.show(10)\n",
    "\n",
    "sellers_df.printSchema()\n",
    "\n",
    "sellers_df.summary().show()"
   ]
  },
  {
   "cell_type": "code",
   "execution_count": null,
   "metadata": {},
   "outputs": [],
   "source": []
  },
  {
   "cell_type": "code",
   "execution_count": null,
   "metadata": {},
   "outputs": [],
   "source": []
  },
  {
   "cell_type": "markdown",
   "metadata": {},
   "source": [
    "**Some informations extracted by crossing the product_id of the different tables**"
   ]
  },
  {
   "cell_type": "code",
   "execution_count": 9,
   "metadata": {},
   "outputs": [
    {
     "data": {
      "application/vnd.jupyter.widget-view+json": {
       "model_id": "e29636eea1ee482c98ca1c79924e6dbb",
       "version_major": 2,
       "version_minor": 0
      },
      "text/plain": [
       "VBox()"
      ]
     },
     "metadata": {},
     "output_type": "display_data"
    },
    {
     "data": {
      "application/vnd.jupyter.widget-view+json": {
       "model_id": "",
       "version_major": 2,
       "version_minor": 0
      },
      "text/plain": [
       "FloatProgress(value=0.0, bar_style='info', description='Progress:', layout=Layout(height='25px', width='50%'),…"
      ]
     },
     "metadata": {},
     "output_type": "display_data"
    },
    {
     "name": "stdout",
     "output_type": "stream",
     "text": [
      "Number of Products: 750000\n",
      "Number of Orders: 400040\n",
      "Number of Sellers: 10"
     ]
    }
   ],
   "source": [
    "print('Number of Products:' , products_df.count())\n",
    "print('Number of Orders:' , sales_df.count())\n",
    "print('Number of Sellers:' , sellers_df.count())"
   ]
  },
  {
   "cell_type": "code",
   "execution_count": null,
   "metadata": {},
   "outputs": [],
   "source": []
  },
  {
   "cell_type": "code",
   "execution_count": 10,
   "metadata": {},
   "outputs": [
    {
     "data": {
      "application/vnd.jupyter.widget-view+json": {
       "model_id": "83efff430659478e8c71dc0b0d2ba4da",
       "version_major": 2,
       "version_minor": 0
      },
      "text/plain": [
       "VBox()"
      ]
     },
     "metadata": {},
     "output_type": "display_data"
    },
    {
     "data": {
      "application/vnd.jupyter.widget-view+json": {
       "model_id": "",
       "version_major": 2,
       "version_minor": 0
      },
      "text/plain": [
       "FloatProgress(value=0.0, bar_style='info', description='Progress:', layout=Layout(height='25px', width='50%'),…"
      ]
     },
     "metadata": {},
     "output_type": "display_data"
    },
    {
     "name": "stdout",
     "output_type": "stream",
     "text": [
      "+--------------------------+\n",
      "|count(DISTINCT product_id)|\n",
      "+--------------------------+\n",
      "|                     19777|\n",
      "+--------------------------+"
     ]
    }
   ],
   "source": [
    "#Number of products sold at least one time\n",
    "sales_df.agg(countDistinct(col(\"product_id\"))).show()"
   ]
  },
  {
   "cell_type": "code",
   "execution_count": null,
   "metadata": {},
   "outputs": [],
   "source": []
  },
  {
   "cell_type": "code",
   "execution_count": 11,
   "metadata": {},
   "outputs": [
    {
     "data": {
      "application/vnd.jupyter.widget-view+json": {
       "model_id": "fc5d46495da3461bbd9a98c024b0096c",
       "version_major": 2,
       "version_minor": 0
      },
      "text/plain": [
       "VBox()"
      ]
     },
     "metadata": {},
     "output_type": "display_data"
    },
    {
     "data": {
      "application/vnd.jupyter.widget-view+json": {
       "model_id": "",
       "version_major": 2,
       "version_minor": 0
      },
      "text/plain": [
       "FloatProgress(value=0.0, bar_style='info', description='Progress:', layout=Layout(height='25px', width='50%'),…"
      ]
     },
     "metadata": {},
     "output_type": "display_data"
    },
    {
     "name": "stdout",
     "output_type": "stream",
     "text": [
      "+----------+------+\n",
      "|product_id|   cnt|\n",
      "+----------+------+\n",
      "|         0|380000|\n",
      "|    131083|     3|\n",
      "|    125565|     3|\n",
      "|    707407|     3|\n",
      "|    250717|     2|\n",
      "|    492174|     2|\n",
      "|    274003|     2|\n",
      "|    570404|     2|\n",
      "|    508981|     2|\n",
      "|    201899|     2|\n",
      "|    536023|     2|\n",
      "|    715675|     2|\n",
      "|    420434|     2|\n",
      "|    412285|     2|\n",
      "|    323626|     2|\n",
      "|    240171|     2|\n",
      "|    420624|     2|\n",
      "|    142531|     2|\n",
      "|    541334|     2|\n",
      "|    693301|     2|\n",
      "+----------+------+\n",
      "only showing top 20 rows"
     ]
    }
   ],
   "source": [
    "#Number of orders with each product_id\n",
    "\n",
    "sales_df.groupBy(col(\"product_id\")).agg(\n",
    "    count(\"*\").alias(\"cnt\")).orderBy(col(\"cnt\").desc()).show()"
   ]
  },
  {
   "cell_type": "markdown",
   "metadata": {},
   "source": [
    "As we can see, the first product (product_id = 0) was sold in almost 2M of the orders. This means, that the major part of the orders were done with respect to product 0."
   ]
  },
  {
   "cell_type": "code",
   "execution_count": null,
   "metadata": {},
   "outputs": [],
   "source": []
  },
  {
   "cell_type": "code",
   "execution_count": null,
   "metadata": {},
   "outputs": [],
   "source": []
  },
  {
   "cell_type": "markdown",
   "metadata": {},
   "source": [
    "# Questions to be answered using the data\n",
    "\n",
    "Questions were made based on https://towardsdatascience.com/six-spark-exercises-to-rule-them-all-242445b24565"
   ]
  },
  {
   "cell_type": "markdown",
   "metadata": {},
   "source": [
    " **Question 1: How many distinct products have been sold in each date?**"
   ]
  },
  {
   "cell_type": "code",
   "execution_count": 12,
   "metadata": {},
   "outputs": [
    {
     "data": {
      "application/vnd.jupyter.widget-view+json": {
       "model_id": "90703a87a15f41198ac18ad0a1a08fd3",
       "version_major": 2,
       "version_minor": 0
      },
      "text/plain": [
       "VBox()"
      ]
     },
     "metadata": {},
     "output_type": "display_data"
    },
    {
     "data": {
      "application/vnd.jupyter.widget-view+json": {
       "model_id": "",
       "version_major": 2,
       "version_minor": 0
      },
      "text/plain": [
       "FloatProgress(value=0.0, bar_style='info', description='Progress:', layout=Layout(height='25px', width='50%'),…"
      ]
     },
     "metadata": {},
     "output_type": "display_data"
    },
    {
     "name": "stdout",
     "output_type": "stream",
     "text": [
      "+----------+---------------+\n",
      "|      date|n_products_sold|\n",
      "+----------+---------------+\n",
      "|2020-07-04|           2054|\n",
      "|2020-07-06|           2025|\n",
      "|2020-07-09|           2023|\n",
      "|2020-07-01|           2017|\n",
      "|2020-07-05|           2011|\n",
      "|2020-07-07|           2004|\n",
      "|2020-07-03|           1996|\n",
      "|2020-07-02|           1980|\n",
      "|2020-07-08|           1962|\n",
      "|2020-07-10|           1944|\n",
      "+----------+---------------+"
     ]
    }
   ],
   "source": [
    "#Answer\n",
    "sales_df.groupBy(col(\"date\"))\\\n",
    "    .agg(countDistinct(col(\"product_id\")).alias(\"n_products_sold\"))\\\n",
    "    .orderBy(col(\"n_products_sold\").desc()).show()"
   ]
  },
  {
   "cell_type": "code",
   "execution_count": null,
   "metadata": {},
   "outputs": [],
   "source": []
  },
  {
   "cell_type": "code",
   "execution_count": null,
   "metadata": {},
   "outputs": [],
   "source": []
  },
  {
   "cell_type": "markdown",
   "metadata": {},
   "source": [
    "**Question 2: What is the average revenue of the orders?**"
   ]
  },
  {
   "cell_type": "code",
   "execution_count": 13,
   "metadata": {},
   "outputs": [
    {
     "data": {
      "application/vnd.jupyter.widget-view+json": {
       "model_id": "685cad1abf484cef8cac84bbcfa27b7f",
       "version_major": 2,
       "version_minor": 0
      },
      "text/plain": [
       "VBox()"
      ]
     },
     "metadata": {},
     "output_type": "display_data"
    },
    {
     "data": {
      "application/vnd.jupyter.widget-view+json": {
       "model_id": "",
       "version_major": 2,
       "version_minor": 0
      },
      "text/plain": [
       "FloatProgress(value=0.0, bar_style='info', description='Progress:', layout=Layout(height='25px', width='50%'),…"
      ]
     },
     "metadata": {},
     "output_type": "display_data"
    },
    {
     "name": "stdout",
     "output_type": "stream",
     "text": [
      "+------------------------------+\n",
      "|avg((price * num_pieces_sold))|\n",
      "+------------------------------+\n",
      "|             1244.911796320368|\n",
      "+------------------------------+"
     ]
    }
   ],
   "source": [
    "#Initial Solution\n",
    "\n",
    "sales_df.join(products_df, sales_df[\"product_id\"] == products_df[\"product_id\"], \"inner\")\\\n",
    "    .agg(avg(products_df[\"price\"] * sales_df[\"num_pieces_sold\"])).show()\n",
    "\n"
   ]
  },
  {
   "cell_type": "markdown",
   "metadata": {},
   "source": [
    "NOTE: As we saw earlier, the number of each type of products that are sold have a very skewed distribution, as the majority of the sales are with regards to product_0. This will mean that the partition associated with the sales data regarding product_0 will take much longer to execute than others (as the size of data is significantly bigger). This can be seen in the Spark UI.\n",
    "\n",
    "To solve this problem, a re-labelling of product_0 can be performed by creating sublabels of product_0, like product_0-1, product_0-2, product_0-3, .... This will level the quantity of data between the different products (as product_0 is divided into the sublabels). As the data concerning the different labels (product_0-1, product_0-2, ...) will go to different partitions, the total work and processing will be more equally paralelized, therefore decreasing the global execution time."
   ]
  },
  {
   "cell_type": "code",
   "execution_count": null,
   "metadata": {},
   "outputs": [],
   "source": []
  },
  {
   "cell_type": "markdown",
   "metadata": {},
   "source": [
    "**Question 3: For each seller, what is the average % contribution of an order to the sellers’ daily quota?**"
   ]
  },
  {
   "cell_type": "code",
   "execution_count": 14,
   "metadata": {},
   "outputs": [
    {
     "data": {
      "application/vnd.jupyter.widget-view+json": {
       "model_id": "8abcd6bd74f047e7a127c6d9e60f0126",
       "version_major": 2,
       "version_minor": 0
      },
      "text/plain": [
       "VBox()"
      ]
     },
     "metadata": {},
     "output_type": "display_data"
    },
    {
     "data": {
      "application/vnd.jupyter.widget-view+json": {
       "model_id": "",
       "version_major": 2,
       "version_minor": 0
      },
      "text/plain": [
       "FloatProgress(value=0.0, bar_style='info', description='Progress:', layout=Layout(height='25px', width='50%'),…"
      ]
     },
     "metadata": {},
     "output_type": "display_data"
    },
    {
     "name": "stdout",
     "output_type": "stream",
     "text": [
      "+---------+--------------------+\n",
      "|seller_id|    avg(perc_target)|\n",
      "+---------+--------------------+\n",
      "|        5|0.003297049749522487|\n",
      "|        6|0.002463949622538975|\n",
      "|        9|0.015227195969147999|\n",
      "|        1|0.003601570720012...|\n",
      "|        3|0.004047099652244278|\n",
      "|        2|0.002558954126517...|\n",
      "|        0|0.002021594631579...|\n",
      "|        7| 0.02786297583608452|\n",
      "|        8|0.006021404728495171|\n",
      "|        4|0.002482820221524996|\n",
      "+---------+--------------------+"
     ]
    }
   ],
   "source": [
    "sales_df.join(sellers_df, sales_df[\"seller_id\"] == sellers_df[\"seller_id\"], \"inner\")\\\n",
    "    .withColumn(\"perc_target\", sales_df[\"num_pieces_sold\"]/sellers_df[\"daily_target\"])\\\n",
    "    .groupby(sellers_df[\"seller_id\"]).agg(avg(\"perc_target\")).show()\n"
   ]
  },
  {
   "cell_type": "markdown",
   "metadata": {},
   "source": [
    "This case is similar to the above, although in this case, as the sellers_df is a smaller dataframe, a **broadcast** join will be performed. Thus, the join operation will be much fast, as a data partition reshuffling will not be neeeded."
   ]
  },
  {
   "cell_type": "code",
   "execution_count": null,
   "metadata": {},
   "outputs": [],
   "source": []
  },
  {
   "cell_type": "markdown",
   "metadata": {},
   "source": [
    "**Question 4: Who are the second most selling and the least selling persons (sellers) for each product**\n",
    "\n",
    "For that, window aggregation functions will be used"
   ]
  },
  {
   "cell_type": "code",
   "execution_count": 15,
   "metadata": {},
   "outputs": [
    {
     "data": {
      "application/vnd.jupyter.widget-view+json": {
       "model_id": "84e2a4366dad4330a22899a1c0993cb0",
       "version_major": 2,
       "version_minor": 0
      },
      "text/plain": [
       "VBox()"
      ]
     },
     "metadata": {},
     "output_type": "display_data"
    },
    {
     "data": {
      "application/vnd.jupyter.widget-view+json": {
       "model_id": "",
       "version_major": 2,
       "version_minor": 0
      },
      "text/plain": [
       "FloatProgress(value=0.0, bar_style='info', description='Progress:', layout=Layout(height='25px', width='50%'),…"
      ]
     },
     "metadata": {},
     "output_type": "display_data"
    },
    {
     "name": "stdout",
     "output_type": "stream",
     "text": [
      "+----------+---------+-----+----+\n",
      "|product_id|seller_id|total|rank|\n",
      "+----------+---------+-----+----+\n",
      "|    110070|        7| 1768|   2|\n",
      "|    112309|        9|  637|   2|\n",
      "|    311008|        7| 1224|   2|\n",
      "|    420547|        6|  578|   2|\n",
      "|    527557|        4| 1120|   2|\n",
      "|    646338|        9| 3363|   2|\n",
      "|    666855|        1|10935|   2|\n",
      "|     49238|        3| 1127|   2|\n",
      "|     74826|        3| 4590|   2|\n",
      "|    143326|        1|  966|   2|\n",
      "|    253214|        6|   99|   2|\n",
      "|    314171|        3| 7865|   2|\n",
      "|    314260|        8| 4859|   2|\n",
      "|    554070|        6| 4305|   2|\n",
      "|    561949|        5|  779|   2|\n",
      "|    634738|        9| 8526|   2|\n",
      "|    634743|        6| 1326|   2|\n",
      "|    700866|        5| 1763|   2|\n",
      "|    705407|        8| 5292|   2|\n",
      "|    125565|        1| 2450|   2|\n",
      "+----------+---------+-----+----+\n",
      "only showing top 20 rows\n",
      "\n",
      "+----------+---------+-----+----+\n",
      "|product_id|seller_id|total|rank|\n",
      "+----------+---------+-----+----+\n",
      "|       876|        5|  630|   1|\n",
      "|      2378|        3|  138|   1|\n",
      "|      3824|        2| 6882|   1|\n",
      "|      5917|        3|  651|   1|\n",
      "|     11506|        9| 2835|   1|\n",
      "|     12894|        8|  276|   1|\n",
      "|     13359|        4| 4956|   1|\n",
      "|     13462|        8| 6264|   1|\n",
      "|     13809|        2|11610|   1|\n",
      "|     15799|        6| 2937|   1|\n",
      "|     16265|        1| 4726|   1|\n",
      "|     18073|        3| 1242|   1|\n",
      "|     18192|        5|   88|   1|\n",
      "|     21429|        3| 1880|   1|\n",
      "|     21849|        8| 8375|   1|\n",
      "|     22833|        3| 8439|   1|\n",
      "|     23530|        4| 1512|   1|\n",
      "|     24762|        8| 8268|   1|\n",
      "|     25337|        6|14553|   1|\n",
      "|     27024|        4|  390|   1|\n",
      "+----------+---------+-----+----+\n",
      "only showing top 20 rows"
     ]
    }
   ],
   "source": [
    "\n",
    "#compute money spent by each seller, in each product\n",
    "new_df = sales_df.join(products_df, sales_df[\"product_id\"] == products_df[\"product_id\"], \"inner\")\\\n",
    "    .withColumn(\"total\", products_df[\"price\"] * sales_df[\"num_pieces_sold\"])\\\n",
    "    .groupby(sales_df[\"product_id\"], sales_df[\"seller_id\"]).agg(sum(\"total\").alias(\"total\"))\n",
    "\n",
    "\n",
    "#window aggregation function\n",
    "window_func_asc = Window.partitionBy(\"product_id\").orderBy(new_df[\"total\"].desc())\n",
    "window_func_desc = Window.partitionBy(\"product_id\").orderBy(new_df[\"total\"].asc())\n",
    "\n",
    "#add Rank column\n",
    "new_df_asc = new_df.withColumn(\"rank\",rank().over(window_func_asc))\n",
    "new_df_desc = new_df.withColumn(\"rank\",rank().over(window_func_desc))\n",
    "\n",
    "#retrive the 2nd best\n",
    "df_2_best = new_df_asc.filter(\"rank=2\")\n",
    "\n",
    "#retrive the 1st least\n",
    "df_1_least = new_df_desc.filter(\"rank=1\")\n",
    "\n",
    "\n",
    "df_2_best.show()\n",
    "df_1_least.show()"
   ]
  },
  {
   "cell_type": "code",
   "execution_count": null,
   "metadata": {},
   "outputs": [],
   "source": []
  },
  {
   "cell_type": "markdown",
   "metadata": {},
   "source": [
    "**Question 5: Is the seller_name always aligned with the seller_id?**\n",
    "\n",
    "Example: name: seller_1 -> id: 1\n",
    "\n",
    "In this solution a UDF will be used"
   ]
  },
  {
   "cell_type": "code",
   "execution_count": 16,
   "metadata": {},
   "outputs": [
    {
     "data": {
      "application/vnd.jupyter.widget-view+json": {
       "model_id": "eef74254830f42249b6b5ac0b1ec4946",
       "version_major": 2,
       "version_minor": 0
      },
      "text/plain": [
       "VBox()"
      ]
     },
     "metadata": {},
     "output_type": "display_data"
    },
    {
     "data": {
      "application/vnd.jupyter.widget-view+json": {
       "model_id": "",
       "version_major": 2,
       "version_minor": 0
      },
      "text/plain": [
       "FloatProgress(value=0.0, bar_style='info', description='Progress:', layout=Layout(height='25px', width='50%'),…"
      ]
     },
     "metadata": {},
     "output_type": "display_data"
    },
    {
     "name": "stdout",
     "output_type": "stream",
     "text": [
      "+---------+-----------+------------+------------+\n",
      "|seller_id|seller_name|daily_target|verification|\n",
      "+---------+-----------+------------+------------+\n",
      "|        6|   seller_6|       20341|           1|\n",
      "|        7|   seller_7|        1808|           1|\n",
      "|        8|   seller_8|        8211|           1|\n",
      "|        9|   seller_9|        3333|           1|\n",
      "|        0|   seller_0|       25000|           1|\n",
      "|        1|   seller_1|       13818|           1|\n",
      "|        4|   seller_4|       20283|           1|\n",
      "|        5|   seller_5|       15190|           1|\n",
      "|        2|   seller_2|       19552|           1|\n",
      "|        3|   seller_3|       12059|           1|\n",
      "+---------+-----------+------------+------------+"
     ]
    }
   ],
   "source": [
    "\n",
    "def get_id(s, i):\n",
    "    split_col = s.split('_')\n",
    "    print(split_col)\n",
    "    \n",
    "    if str(i) == split_col[-1]:\n",
    "        return 1\n",
    "    else:\n",
    "        return 0\n",
    "\n",
    "get_id_udf = udf(get_id, IntegerType())\n",
    "spark.udf.register(\"get_Id_from_Name\", get_id_udf)\n",
    "\n",
    "new_sellers_df = sellers_df.withColumn('verification', get_id_udf('seller_name', 'seller_id'))\n",
    "new_sellers_df.show()"
   ]
  },
  {
   "cell_type": "code",
   "execution_count": null,
   "metadata": {},
   "outputs": [],
   "source": []
  }
 ],
 "metadata": {
  "kernelspec": {
   "display_name": "PySpark",
   "language": "",
   "name": "pysparkkernel"
  },
  "language_info": {
   "codemirror_mode": {
    "name": "python",
    "version": 2
   },
   "mimetype": "text/x-python",
   "name": "pyspark",
   "pygments_lexer": "python2"
  }
 },
 "nbformat": 4,
 "nbformat_minor": 4
}
